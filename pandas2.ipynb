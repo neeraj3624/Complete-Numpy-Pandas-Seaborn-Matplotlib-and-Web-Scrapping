{
 "cells": [
  {
   "cell_type": "code",
   "execution_count": 1,
   "id": "a7275c56",
   "metadata": {},
   "outputs": [],
   "source": [
    "import pandas as pd \n",
    "data1={\"Emp Id\":[\"E01\",\"E02\",\"E023\",\"E04\",\"E05\",\"E06\"],\n",
    "       \"Names\":[\"Ram\",\"Shyam\",\"Shyaarm\",\"Shyafm\",\"Shsfyam\",\"Shyasm\"],\n",
    "       \"Age\":[354,45,5,4,66,355]\n",
    "      }\n",
    "data2={\"Emp Id\":[\"E0s1\",\"E0s2\",\"E0s23\",\"Es04\",\"E0s5\",\"Es06\"],\n",
    "       \"Names\":[\"Rasgm\",\"Shygam\",\"Shyaashghgtrm\",\"Shyafm\",\"Shsfvsyam\",\"Sfhyasm\"],\n",
    "       \"Age\":[33554,4355,55,354,665,3555]\n",
    "      }\n",
    "df1=pd.DataFrame(data1)\n",
    "df2=pd.DataFrame(data2)"
   ]
  },
  {
   "cell_type": "code",
   "execution_count": 2,
   "id": "1991a161",
   "metadata": {},
   "outputs": [
    {
     "name": "stdout",
     "output_type": "stream",
     "text": [
      "  Emp Id    Names  Age\n",
      "0    E01      Ram  354\n",
      "1    E02    Shyam   45\n",
      "2   E023  Shyaarm    5\n",
      "3    E04   Shyafm    4\n",
      "4    E05  Shsfyam   66\n",
      "5    E06   Shyasm  355\n"
     ]
    }
   ],
   "source": [
    "print(df1)"
   ]
  },
  {
   "cell_type": "code",
   "execution_count": 4,
   "id": "672a178b",
   "metadata": {},
   "outputs": [
    {
     "name": "stdout",
     "output_type": "stream",
     "text": [
      "Empty DataFrame\n",
      "Columns: [Emp Id, Names_x, Age_x, Names_y, Age_y]\n",
      "Index: []\n"
     ]
    }
   ],
   "source": [
    "print(pd.merge(df1,df2,on=\"Emp Id\"))"
   ]
  },
  {
   "cell_type": "code",
   "execution_count": 5,
   "id": "e12a54c6",
   "metadata": {},
   "outputs": [
    {
     "name": "stdout",
     "output_type": "stream",
     "text": [
      "  Emp Id    Names  Age\n",
      "0    E01      Ram  354\n",
      "1    E02    Shyam   45\n",
      "2   E023  Shyaarm    5\n",
      "3    E04   Shyafm    4\n",
      "4    E05  Shsfyam   66\n",
      "5    E06   Shyasm  355\n"
     ]
    }
   ],
   "source": [
    "print(df1)"
   ]
  },
  {
   "cell_type": "code",
   "execution_count": 7,
   "id": "b14d4e25",
   "metadata": {},
   "outputs": [
    {
     "name": "stdout",
     "output_type": "stream",
     "text": [
      "  Emp Id  Names_x  Age_x Names_y  Age_y\n",
      "0    E01      Ram    354     NaN    NaN\n",
      "1    E02    Shyam     45     NaN    NaN\n",
      "2   E023  Shyaarm      5     NaN    NaN\n",
      "3    E04   Shyafm      4     NaN    NaN\n",
      "4    E05  Shsfyam     66     NaN    NaN\n",
      "5    E06   Shyasm    355     NaN    NaN\n"
     ]
    }
   ],
   "source": [
    "print(pd.merge(df1,df2,on=\"Emp Id\",how=\"left\"))"
   ]
  },
  {
   "cell_type": "code",
   "execution_count": 8,
   "id": "f8e13254",
   "metadata": {},
   "outputs": [
    {
     "name": "stdout",
     "output_type": "stream",
     "text": [
      "  Emp Id Names_x  Age_x        Names_y  Age_y\n",
      "0   E0s1     NaN    NaN          Rasgm  33554\n",
      "1   E0s2     NaN    NaN         Shygam   4355\n",
      "2  E0s23     NaN    NaN  Shyaashghgtrm     55\n",
      "3   Es04     NaN    NaN         Shyafm    354\n",
      "4   E0s5     NaN    NaN      Shsfvsyam    665\n",
      "5   Es06     NaN    NaN        Sfhyasm   3555\n"
     ]
    }
   ],
   "source": [
    "print(pd.merge(df1,df2,on=\"Emp Id\",how=\"right\"))"
   ]
  },
  {
   "cell_type": "code",
   "execution_count": 9,
   "id": "24c8c4bc",
   "metadata": {},
   "outputs": [
    {
     "name": "stdout",
     "output_type": "stream",
     "text": [
      "Empty DataFrame\n",
      "Columns: [Emp Id, Names_x, Age_x, Names_y, Age_y]\n",
      "Index: []\n"
     ]
    }
   ],
   "source": [
    "print(pd.merge(df1,df2,on=\"Emp Id\",how=\"inner\"))"
   ]
  },
  {
   "cell_type": "code",
   "execution_count": 13,
   "id": "9cdd29f7",
   "metadata": {},
   "outputs": [
    {
     "name": "stdout",
     "output_type": "stream",
     "text": [
      "  Emp Id          Names    Age\n",
      "0    E01            Ram    354\n",
      "1    E02          Shyam     45\n",
      "2   E023        Shyaarm      5\n",
      "3    E04         Shyafm      4\n",
      "4    E05        Shsfyam     66\n",
      "5    E06         Shyasm    355\n",
      "0   E0s1          Rasgm  33554\n",
      "1   E0s2         Shygam   4355\n",
      "2  E0s23  Shyaashghgtrm     55\n",
      "3   Es04         Shyafm    354\n",
      "4   E0s5      Shsfvsyam    665\n",
      "5   Es06        Sfhyasm   3555\n"
     ]
    }
   ],
   "source": [
    "print(pd.concat([df1,df2]))"
   ]
  },
  {
   "cell_type": "code",
   "execution_count": null,
   "id": "6cb0f50b",
   "metadata": {},
   "outputs": [],
   "source": []
  }
 ],
 "metadata": {
  "kernelspec": {
   "display_name": "Python 3",
   "language": "python",
   "name": "python3"
  },
  "language_info": {
   "codemirror_mode": {
    "name": "ipython",
    "version": 3
   },
   "file_extension": ".py",
   "mimetype": "text/x-python",
   "name": "python",
   "nbconvert_exporter": "python",
   "pygments_lexer": "ipython3",
   "version": "3.13.2"
  }
 },
 "nbformat": 4,
 "nbformat_minor": 5
}
